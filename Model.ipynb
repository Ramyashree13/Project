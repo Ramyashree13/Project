{
 "cells": [
  {
   "cell_type": "code",
   "execution_count": 1,
   "metadata": {},
   "outputs": [],
   "source": [
    "import pandas as pd\n",
    "import os\n",
    "import librosa\n",
    "import numpy as np\n",
    "import tensorflow as tf\n",
    "\n",
    "\n",
    "from Documents.helpers.wavfilehelper import WavFileHelper\n",
    "wavfilehelper = WavFileHelper()"
   ]
  },
  {
   "cell_type": "code",
   "execution_count": 2,
   "metadata": {},
   "outputs": [],
   "source": [
    "audiodata = []\n",
    "fulldatasetpath = 'C:/Users/lenovo/UrbanSound8K'\n",
    "\n",
    "metadata = pd.read_csv(fulldatasetpath + '/metadata/UrbanSound8K.csv')\n",
    "\n",
    "\n",
    "for index, row in metadata.iterrows():\n",
    "    \n",
    "    file_name = os.path.join(os.path.abspath('C:/Users/lenovo/UrbanSound8K/'),'fold'+str(row[\"fold\"])+'/',str(row[\"slice_file_name\"]))\n",
    "    data = wavfilehelper.read_file_properties(file_name)\n",
    "    audiodata.append(data)\n",
    "\n",
    "audiodf = pd.DataFrame(audiodata, columns=['num_channels','sample_rate','bit_depth'])\n"
   ]
  },
  {
   "cell_type": "code",
   "execution_count": 3,
   "metadata": {},
   "outputs": [],
   "source": [
    "def extract_features(file_name):\n",
    "   \n",
    "    try:\n",
    "        audio, sample_rate = librosa.load(file_name, res_type='kaiser_fast')\n",
    "        stft = np.abs(librosa.stft(audio))\n",
    "        mfccs = np.mean(librosa.feature.mfcc(y=audio, sr=sample_rate, n_mfcc=40).T,axis=0)\n",
    "        chroma = np.mean(librosa.feature.chroma_stft(S=stft, sr=sample_rate).T,axis=0)\n",
    "        mel = np.mean(librosa.feature.melspectrogram(audio, sr=sample_rate).T,axis=0)\n",
    "        contrast = np.mean(librosa.feature.spectral_contrast(S=stft, sr=sample_rate).T,axis=0)\n",
    "        tonnetz = np.mean(librosa.feature.tonnetz(y=librosa.effects.harmonic(audio),\n",
    "        sr=sample_rate).T,axis=0)\n",
    "        \n",
    "    except Exception as e:\n",
    "        print(\"Error encountered while parsing file: \", file_name)\n",
    "        return None \n",
    "     \n",
    "    return mfccs,chroma,mel,contrast,tonnetz\n",
    "\n",
    "\n",
    "\n",
    "\n"
   ]
  },
  {
   "cell_type": "code",
   "execution_count": 4,
   "metadata": {},
   "outputs": [
    {
     "name": "stderr",
     "output_type": "stream",
     "text": [
      "C:\\Users\\lenovo\\Miniconda3\\envs\\tensorflow\\lib\\site-packages\\librosa\\core\\pitch.py:146: UserWarning: Trying to estimate tuning from empty frequency set.\n",
      "  warnings.warn('Trying to estimate tuning from empty frequency set.')\n"
     ]
    },
    {
     "name": "stdout",
     "output_type": "stream",
     "text": [
      "Finished feature extraction from  8732  files\n"
     ]
    }
   ],
   "source": [
    "fulldatasetpath = 'C:/Users/lenovo/UrbanSound8K/'\n",
    "\n",
    "metadata = pd.read_csv(fulldatasetpath + '/metadata/UrbanSound8K.csv')\n",
    "\n",
    "features = []\n",
    "for index, row in metadata.iterrows():\n",
    "    \n",
    "    file_name = os.path.join(os.path.abspath(fulldatasetpath),'fold'+str(row[\"fold\"])+'/',str(row[\"slice_file_name\"]))\n",
    "    \n",
    "    class_label = row[\"class\"]\n",
    "    mfccs,chroma,mel,contrast,tonnetz = extract_features(file_name)\n",
    "    features.append([mfccs,chroma,mel,contrast,tonnetz,class_label])\n",
    "\n",
    "featuresdf = pd.DataFrame(features, columns=['mfccs','chroma','mel','contrast','tonnetz','class_label'])\n",
    "#end = timeit.timeit()\n",
    "#print(\"Time taken to extract features : \",end-start)\n",
    "print('Finished feature extraction from ', len(featuresdf), ' files')"
   ]
  },
  {
   "cell_type": "code",
   "execution_count": 5,
   "metadata": {},
   "outputs": [
    {
     "name": "stderr",
     "output_type": "stream",
     "text": [
      "Using TensorFlow backend.\n"
     ]
    }
   ],
   "source": [
    "from sklearn.preprocessing import LabelEncoder\n",
    "from keras.utils import to_categorical\n",
    "\n",
    "# Convert features and corresponding classification labels into numpy arrays\n",
    "only_features=np.concatenate((featuresdf.mfccs.tolist(),featuresdf.chroma.tolist(),featuresdf.mel.tolist(),featuresdf.contrast.tolist(),featuresdf.tonnetz.tolist()),axis=1)\n",
    "X = np.array(only_features)\n",
    "y = np.array(featuresdf.class_label.tolist())\n",
    "\n",
    "# Encode the classification labels\n",
    "le = LabelEncoder()\n",
    "yy = to_categorical(le.fit_transform(y)) \n",
    "\n",
    "# split the dataset \n",
    "from sklearn.model_selection import train_test_split \n",
    "\n",
    "train_x, test_x, train_y, test_y = train_test_split(X, yy, test_size=0.2, random_state = 42)"
   ]
  },
  {
   "cell_type": "code",
   "execution_count": 6,
   "metadata": {},
   "outputs": [],
   "source": [
    "import tensorflow as tf\n",
    "from keras.models import Sequential\n",
    "from keras.layers import Dense, Dropout,Convolution2D, MaxPooling2D\n",
    "from keras.optimizers import Adam\n",
    "from keras.callbacks import EarlyStopping\n",
    "from keras.models import model_from_json"
   ]
  },
  {
   "cell_type": "code",
   "execution_count": 7,
   "metadata": {},
   "outputs": [],
   "source": [
    "# neural network dimensions\n",
    "n_dim = train_x.shape[1]\n",
    "n_classes = train_y.shape[1]\n",
    "n_hidden_units_1 = n_dim\n",
    "n_hidden_units_2 = 400 # approx n_dim * 2\n",
    "n_hidden_units_3 = 200 # half of layer 2"
   ]
  },
  {
   "cell_type": "code",
   "execution_count": 8,
   "metadata": {},
   "outputs": [
    {
     "name": "stdout",
     "output_type": "stream",
     "text": [
      "193\n",
      "Features: 193 Classes: 10 \n"
     ]
    }
   ],
   "source": [
    "print(n_dim)\n",
    "print(\"Features: {} Classes: {} \".format(n_dim, n_classes))"
   ]
  },
  {
   "cell_type": "code",
   "execution_count": 9,
   "metadata": {},
   "outputs": [],
   "source": [
    "\n",
    "def create_model(activation_function='relu',init_type='normal', kernel_initializer=\"uniform\", optimiser='Adamax', dropout_rate=0.5):\n",
    "    model = Sequential()\n",
    "    # layer 1\n",
    "    #model.add(Convolution2D(n_hidden_units_1, input_dim=n_dim, activation=activation_function,kernel_initializer=\"uniform\"))\n",
    "    #model.add(MaxPooling2D(2,2))\n",
    "    model.add(Dense(n_hidden_units_1, input_dim=n_dim, init=init_type, activation=activation_function))\n",
    "    # layer 2\n",
    "    model.add(Dense(n_hidden_units_2, kernel_initializer=\"uniform\", activation=activation_function))\n",
    "    model.add(Dropout(dropout_rate))\n",
    "    # layer 3\n",
    "    model.add(Dense(n_hidden_units_3, kernel_initializer=\"uniform\" , activation=activation_function))\n",
    "    model.add(Dropout(dropout_rate))\n",
    "    # output layer\n",
    "    model.add(Dense(n_classes, kernel_initializer=\"uniform\", activation='softmax'))\n",
    "    \n",
    "    model.compile(loss='categorical_crossentropy', optimizer=optimiser, metrics=['accuracy'])\n",
    "    return model"
   ]
  },
  {
   "cell_type": "code",
   "execution_count": 10,
   "metadata": {},
   "outputs": [
    {
     "name": "stderr",
     "output_type": "stream",
     "text": [
      "C:\\Users\\lenovo\\Miniconda3\\envs\\tensorflow\\lib\\site-packages\\ipykernel_launcher.py:6: UserWarning: Update your `Dense` call to the Keras 2 API: `Dense(193, input_dim=193, activation=\"relu\", kernel_initializer=\"normal\")`\n",
      "  \n"
     ]
    }
   ],
   "source": [
    "model = create_model()\n",
    "earlystop = EarlyStopping(monitor='val_loss', patience=3, verbose=0, mode='auto')\n"
   ]
  },
  {
   "cell_type": "code",
   "execution_count": 11,
   "metadata": {},
   "outputs": [
    {
     "name": "stdout",
     "output_type": "stream",
     "text": [
      "Model: \"sequential_1\"\n",
      "_________________________________________________________________\n",
      "Layer (type)                 Output Shape              Param #   \n",
      "=================================================================\n",
      "dense_1 (Dense)              (None, 193)               37442     \n",
      "_________________________________________________________________\n",
      "dense_2 (Dense)              (None, 400)               77600     \n",
      "_________________________________________________________________\n",
      "dropout_1 (Dropout)          (None, 400)               0         \n",
      "_________________________________________________________________\n",
      "dense_3 (Dense)              (None, 200)               80200     \n",
      "_________________________________________________________________\n",
      "dropout_2 (Dropout)          (None, 200)               0         \n",
      "_________________________________________________________________\n",
      "dense_4 (Dense)              (None, 10)                2010      \n",
      "=================================================================\n",
      "Total params: 197,252\n",
      "Trainable params: 197,252\n",
      "Non-trainable params: 0\n",
      "_________________________________________________________________\n"
     ]
    }
   ],
   "source": [
    "model.summary()"
   ]
  },
  {
   "cell_type": "code",
   "execution_count": 12,
   "metadata": {},
   "outputs": [
    {
     "name": "stdout",
     "output_type": "stream",
     "text": [
      "Train on 6286 samples, validate on 699 samples\n",
      "Epoch 1/30\n",
      "6286/6286 [==============================] - 3s 524us/step - loss: 1.8214 - acc: 0.3732 - val_loss: 1.4172 - val_acc: 0.5222\n",
      "Epoch 2/30\n",
      "6286/6286 [==============================] - 2s 309us/step - loss: 1.3706 - acc: 0.5388 - val_loss: 1.1659 - val_acc: 0.6152\n",
      "Epoch 3/30\n",
      "6286/6286 [==============================] - 2s 307us/step - loss: 1.1695 - acc: 0.6087 - val_loss: 1.0143 - val_acc: 0.6724\n",
      "Epoch 4/30\n",
      "6286/6286 [==============================] - 2s 305us/step - loss: 1.0218 - acc: 0.6618 - val_loss: 0.9109 - val_acc: 0.7153\n",
      "Epoch 5/30\n",
      "6286/6286 [==============================] - 2s 310us/step - loss: 0.8939 - acc: 0.7017 - val_loss: 0.8228 - val_acc: 0.7468\n",
      "Epoch 6/30\n",
      "6286/6286 [==============================] - 2s 325us/step - loss: 0.7959 - acc: 0.7405 - val_loss: 0.7457 - val_acc: 0.7625\n",
      "Epoch 7/30\n",
      "6286/6286 [==============================] - 2s 362us/step - loss: 0.6983 - acc: 0.7674 - val_loss: 0.6955 - val_acc: 0.7740\n",
      "Epoch 8/30\n",
      "6286/6286 [==============================] - 2s 320us/step - loss: 0.6458 - acc: 0.7854 - val_loss: 0.6435 - val_acc: 0.8083\n",
      "Epoch 9/30\n",
      "6286/6286 [==============================] - 2s 310us/step - loss: 0.5771 - acc: 0.8067 - val_loss: 0.5732 - val_acc: 0.8255\n",
      "Epoch 10/30\n",
      "6286/6286 [==============================] - 2s 316us/step - loss: 0.5383 - acc: 0.8261 - val_loss: 0.5576 - val_acc: 0.8398\n",
      "Epoch 11/30\n",
      "6286/6286 [==============================] - 2s 315us/step - loss: 0.4887 - acc: 0.8416 - val_loss: 0.5362 - val_acc: 0.8498\n",
      "Epoch 12/30\n",
      "6286/6286 [==============================] - 2s 318us/step - loss: 0.4475 - acc: 0.8513 - val_loss: 0.5249 - val_acc: 0.8455\n",
      "Epoch 13/30\n",
      "6286/6286 [==============================] - 2s 315us/step - loss: 0.4129 - acc: 0.8603 - val_loss: 0.5034 - val_acc: 0.8526\n",
      "Epoch 14/30\n",
      "6286/6286 [==============================] - 2s 315us/step - loss: 0.3794 - acc: 0.8723 - val_loss: 0.4872 - val_acc: 0.8584\n",
      "Epoch 15/30\n",
      "6286/6286 [==============================] - 2s 322us/step - loss: 0.3619 - acc: 0.8738 - val_loss: 0.4684 - val_acc: 0.8712\n",
      "Epoch 16/30\n",
      "6286/6286 [==============================] - 2s 362us/step - loss: 0.3234 - acc: 0.8877 - val_loss: 0.4759 - val_acc: 0.8655\n",
      "Epoch 17/30\n",
      "6286/6286 [==============================] - 3s 419us/step - loss: 0.3082 - acc: 0.8961 - val_loss: 0.4638 - val_acc: 0.8641\n",
      "Epoch 18/30\n",
      "6286/6286 [==============================] - 2s 325us/step - loss: 0.2956 - acc: 0.8993 - val_loss: 0.4763 - val_acc: 0.8741\n",
      "Epoch 19/30\n",
      "6286/6286 [==============================] - 2s 305us/step - loss: 0.2695 - acc: 0.9058 - val_loss: 0.4216 - val_acc: 0.8827\n",
      "Epoch 20/30\n",
      "6286/6286 [==============================] - 2s 305us/step - loss: 0.2531 - acc: 0.9146 - val_loss: 0.4700 - val_acc: 0.8698\n",
      "Epoch 21/30\n",
      "6286/6286 [==============================] - 2s 310us/step - loss: 0.2420 - acc: 0.9149 - val_loss: 0.4481 - val_acc: 0.8798\n",
      "Epoch 22/30\n",
      "6286/6286 [==============================] - 2s 305us/step - loss: 0.2318 - acc: 0.9216 - val_loss: 0.4031 - val_acc: 0.8984\n",
      "Epoch 23/30\n",
      "6286/6286 [==============================] - 2s 308us/step - loss: 0.2127 - acc: 0.9314 - val_loss: 0.4046 - val_acc: 0.8956\n",
      "Epoch 24/30\n",
      "6286/6286 [==============================] - 2s 305us/step - loss: 0.2110 - acc: 0.9270 - val_loss: 0.4684 - val_acc: 0.8798\n",
      "Epoch 25/30\n",
      "6286/6286 [==============================] - 2s 310us/step - loss: 0.2044 - acc: 0.9298 - val_loss: 0.4174 - val_acc: 0.8870\n"
     ]
    }
   ],
   "source": [
    "history = model.fit(train_x, train_y, epochs=30, validation_split=0.1, callbacks=[earlystop], batch_size=24)"
   ]
  },
  {
   "cell_type": "code",
   "execution_count": 13,
   "metadata": {},
   "outputs": [
    {
     "name": "stdout",
     "output_type": "stream",
     "text": [
      "1747/1747 [==============================] - 0s 79us/step\n"
     ]
    }
   ],
   "source": [
    "score, accuracy = model.evaluate(x = test_x, y = test_y , verbose = 1)"
   ]
  },
  {
   "cell_type": "code",
   "execution_count": 14,
   "metadata": {},
   "outputs": [
    {
     "name": "stdout",
     "output_type": "stream",
     "text": [
      "0.8981110477488452 0.40815886358704373\n"
     ]
    }
   ],
   "source": [
    "print(accuracy, score)"
   ]
  },
  {
   "cell_type": "code",
   "execution_count": 19,
   "metadata": {},
   "outputs": [
    {
     "name": "stdout",
     "output_type": "stream",
     "text": [
      "saved model to disk\n"
     ]
    }
   ],
   "source": [
    "model_json=model.to_json()\n",
    "with open(\"model.json\",'w') as json_file:\n",
    "    json_file.write(model_json)\n",
    "model.save_weights(\"model.h5\")\n",
    "print(\"saved model to disk\")"
   ]
  },
  {
   "cell_type": "code",
   "execution_count": 21,
   "metadata": {},
   "outputs": [
    {
     "name": "stdout",
     "output_type": "stream",
     "text": [
      "loaded model from disk\n"
     ]
    }
   ],
   "source": [
    "json_file=open(\"model.json\",'r')\n",
    "loaded_model_json=json_file.read()\n",
    "json_file.close()\n",
    "loaded_model=model_from_json(loaded_model_json)\n",
    "loaded_model.load_weights(\"model.h5\")\n",
    "print(\"loaded model from disk\")"
   ]
  },
  {
   "cell_type": "code",
   "execution_count": 22,
   "metadata": {},
   "outputs": [],
   "source": [
    "loaded_model.compile(loss='categorical_crossentropy', optimizer='Adamax',metrics=['accuracy'])"
   ]
  },
  {
   "cell_type": "code",
   "execution_count": 23,
   "metadata": {},
   "outputs": [
    {
     "name": "stdout",
     "output_type": "stream",
     "text": [
      "1747/1747 [==============================] - 0s 147us/step\n",
      "0.8981110477488452 0.40815886358704373\n"
     ]
    }
   ],
   "source": [
    "score, accuracy = model.evaluate(x = test_x, y = test_y , verbose = 1)\n",
    "print(accuracy, score)"
   ]
  },
  {
   "cell_type": "code",
   "execution_count": null,
   "metadata": {},
   "outputs": [],
   "source": []
  },
  {
   "cell_type": "code",
   "execution_count": null,
   "metadata": {},
   "outputs": [],
   "source": []
  }
 ],
 "metadata": {
  "kernelspec": {
   "display_name": "python 3.6 (tensorflow)",
   "language": "python",
   "name": "tensorflow"
  },
  "language_info": {
   "codemirror_mode": {
    "name": "ipython",
    "version": 3
   },
   "file_extension": ".py",
   "mimetype": "text/x-python",
   "name": "python",
   "nbconvert_exporter": "python",
   "pygments_lexer": "ipython3",
   "version": "3.6.9"
  }
 },
 "nbformat": 4,
 "nbformat_minor": 2
}
